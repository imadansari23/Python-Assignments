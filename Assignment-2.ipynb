{
 "cells": [
  {
   "cell_type": "code",
   "execution_count": 1,
   "metadata": {},
   "outputs": [
    {
     "name": "stdout",
     "output_type": "stream",
     "text": [
      "Enter 1st subject Marks 22\n",
      "Enter 2nd subject Marks 55\n",
      "Enter 3rd subject Marks 44\n",
      "Enter 4th subject Marks 88\n",
      "Enter 5th subject Marks 11\n",
      "Your Total Marks : 220\n",
      "D Grade\n"
     ]
    }
   ],
   "source": [
    "a = int(input(\"Enter 1st subject Marks \"))\n",
    "b = int(input(\"Enter 2nd subject Marks \"))\n",
    "c = int(input(\"Enter 3rd subject Marks \"))\n",
    "d = int(input(\"Enter 4th subject Marks \"))\n",
    "e = int(input(\"Enter 5th subject Marks \"))\n",
    "total = a+b+c+d+e\n",
    "per = (total/500)*100\n",
    "if(per >= 80 and per <= 100):\n",
    "    print(\"Your Total Marks : \" + str(total))\n",
    "    print(\"A-1 Grade\")\n",
    "elif(per >= 70 and per < 80):\n",
    "    print(\"Your Total Marks : \" + str(total))\n",
    "    print(\"A Grade\")\n",
    "elif(per >= 60 and per < 70):\n",
    "    print(\"Your Total Marks : \" + str(total))\n",
    "    print(\"B Grade\")\n",
    "elif(per >= 50 and per < 60):\n",
    "    print(\"Your Total Marks : \" + str(total))\n",
    "    print(\"C Grade\")\n",
    "elif(per >= 40 and per < 50):\n",
    "    print(\"Your Total Marks : \" + str(total))\n",
    "    print(\"D Grade\")\n",
    "elif(per >= 30 and per < 40):\n",
    "    print(\"Your Total Marks : \" + str(total))\n",
    "    print(\"E Grade\")\n",
    "else:\n",
    "    print(\"Your Total Marks : \" + str(total))\n",
    "    print(\"FAIL\")"
   ]
  },
  {
   "cell_type": "code",
   "execution_count": 2,
   "metadata": {},
   "outputs": [
    {
     "name": "stdout",
     "output_type": "stream",
     "text": [
      "Enter Number : 56\n",
      "This number is EVEN\n"
     ]
    }
   ],
   "source": [
    "num = int(input(\"Enter Number : \"))\n",
    "if(num%2 == 0):\n",
    "    print(\"This number is EVEN\")\n",
    "else:\n",
    "    print(\"This Number is ODD\")"
   ]
  },
  {
   "cell_type": "code",
   "execution_count": 3,
   "metadata": {},
   "outputs": [
    {
     "name": "stdout",
     "output_type": "stream",
     "text": [
      "5\n"
     ]
    }
   ],
   "source": [
    "nums = [1, 2, 6, 9, 10]\n",
    "a = len(nums)\n",
    "print (a)"
   ]
  },
  {
   "cell_type": "code",
   "execution_count": 12,
   "metadata": {},
   "outputs": [
    {
     "name": "stdout",
     "output_type": "stream",
     "text": [
      "85\n"
     ]
    }
   ],
   "source": [
    "nums = [2, 5, 11, 21, 4, 17, 25]\n",
    "add = 0\n",
    "for x in nums:\n",
    "    add += x\n",
    "print(add)"
   ]
  },
  {
   "cell_type": "code",
   "execution_count": 13,
   "metadata": {},
   "outputs": [
    {
     "name": "stdout",
     "output_type": "stream",
     "text": [
      "56\n"
     ]
    }
   ],
   "source": [
    "nums = [2, 5, 11, 21, 4, 56, 17, 25]\n",
    "a = max(nums)\n",
    "print(a)"
   ]
  },
  {
   "cell_type": "code",
   "execution_count": 15,
   "metadata": {},
   "outputs": [
    {
     "name": "stdout",
     "output_type": "stream",
     "text": [
      "2\n",
      "1\n",
      "4\n",
      "3\n"
     ]
    }
   ],
   "source": [
    "a = [5, 6, 2, 6, 1, 4, 10, 3]\n",
    "for x in a:\n",
    "    if(x < 5):\n",
    "        print (x)"
   ]
  },
  {
   "cell_type": "code",
   "execution_count": null,
   "metadata": {},
   "outputs": [],
   "source": []
  }
 ],
 "metadata": {
  "kernelspec": {
   "display_name": "Python 3",
   "language": "python",
   "name": "python3"
  },
  "language_info": {
   "codemirror_mode": {
    "name": "ipython",
    "version": 3
   },
   "file_extension": ".py",
   "mimetype": "text/x-python",
   "name": "python",
   "nbconvert_exporter": "python",
   "pygments_lexer": "ipython3",
   "version": "3.7.3"
  }
 },
 "nbformat": 4,
 "nbformat_minor": 2
}
