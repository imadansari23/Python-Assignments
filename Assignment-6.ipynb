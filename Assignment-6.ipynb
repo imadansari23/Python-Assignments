{
 "cells": [
  {
   "cell_type": "code",
   "execution_count": null,
   "metadata": {},
   "outputs": [],
   "source": [
    "Object Oriented Programming Language is a programming model based on OBJECTS.\n",
    "It contain code in the form of METHOD and their data in the form of attributes.\n",
    "In OOP we make different classes which are reusable at anytime in our code."
   ]
  },
  {
   "cell_type": "code",
   "execution_count": null,
   "metadata": {},
   "outputs": [],
   "source": [
    "1- It provides reusability.\n",
    "2- The code is clean and short.\n",
    "3- Easy to maintain.\n",
    "4- Using oop we can make our code secure.\n",
    "5- Troubleshooting is easy."
   ]
  },
  {
   "cell_type": "markdown",
   "metadata": {},
   "source": [
    "FUNCTION is the block of code which is made and used outside the class.\n",
    "\n",
    "METHODS is also like a function but it is defined in the class."
   ]
  },
  {
   "cell_type": "code",
   "execution_count": null,
   "metadata": {},
   "outputs": [],
   "source": [
    "CLASS is the blueprint or structure for creating an object providing attributes and methods of functions.\n",
    "It is created by the keyword class.\n",
    "\n",
    "Object is an instance of class.Objects define the behaviour of class.\n",
    "\n",
    "ATTRIBUTES are variables which are declared inside the class. It stores information about the object.\n",
    "\n",
    "BEHAVIOUR of an object tells us that how the class reacts. Behaviour of a class is defined by its methods."
   ]
  },
  {
   "cell_type": "code",
   "execution_count": 24,
   "metadata": {},
   "outputs": [
    {
     "name": "stdout",
     "output_type": "stream",
     "text": [
      "This is New CAR\n",
      "The color of car is white\n",
      "The tax on this car is : 150000.0\n",
      "\n",
      "\n",
      "This is New CAR\n",
      "The color of car is red\n",
      "The tax on this car is : 1125000.0\n",
      "\n",
      "\n",
      "This is Old CAR\n",
      "The color of car is yellow\n",
      "The tax on this car is : 750000.0\n",
      "\n",
      "\n",
      "This is New CAR\n",
      "The color of car is blue\n",
      "The tax on this car is : 1200000.0\n",
      "\n",
      "\n",
      "This is Old CAR\n",
      "The color of car is black\n",
      "The tax on this car is : 13500000.0\n"
     ]
    }
   ],
   "source": [
    "class Car():\n",
    "    def __init__(self,name,price,color,model,condition):\n",
    "        self.name = name\n",
    "        self.price = price\n",
    "        self.color = color\n",
    "        self.model = model\n",
    "        self.condition = condition\n",
    "    \n",
    "    def new_or_old(self):\n",
    "        if self.model > 2000:\n",
    "            print(\"This is New CAR\")\n",
    "        else:\n",
    "            print(\"This is Old CAR\")\n",
    "    \n",
    "    def car_color(self):\n",
    "        print(\"The color of car is \" + self.color)\n",
    "        \n",
    "    def sales_tax(self):\n",
    "        tax = str((15/100)*self.price)\n",
    "        print(\"The tax on this car is : \" + tax)\n",
    "\n",
    "\n",
    "honda = Car(\"HONDA\",1000000,\"white\",2020,\"good\")\n",
    "suzuki = Car(\"SUZUKI\",7500000,\"red\",2015,\"good\")\n",
    "mitsubishi = Car(\"MITSUBISHI\",5000000,\"yellow\",1995,\"BAD\")\n",
    "mercedes = Car(\"MERCEDES\",8000000,\"blue\",2005,\"OK\")\n",
    "bmw = Car(\"BMW\",90000000,\"black\",2000,\"OK\")\n",
    "\n",
    "\n",
    "honda.new_or_old()\n",
    "honda.car_color()\n",
    "honda.sales_tax()\n",
    "print(\"\\n\")\n",
    "suzuki.new_or_old()\n",
    "suzuki.car_color()\n",
    "suzuki.sales_tax()\n",
    "print(\"\\n\")\n",
    "mitsubishi.new_or_old()\n",
    "mitsubishi.car_color()\n",
    "mitsubishi.sales_tax()\n",
    "print(\"\\n\")\n",
    "mercedes.new_or_old()\n",
    "mercedes.car_color()\n",
    "mercedes.sales_tax()\n",
    "print(\"\\n\")\n",
    "bmw.new_or_old()\n",
    "bmw.car_color()\n",
    "bmw.sales_tax()"
   ]
  },
  {
   "cell_type": "code",
   "execution_count": null,
   "metadata": {},
   "outputs": [],
   "source": []
  }
 ],
 "metadata": {
  "kernelspec": {
   "display_name": "Python 3",
   "language": "python",
   "name": "python3"
  },
  "language_info": {
   "codemirror_mode": {
    "name": "ipython",
    "version": 3
   },
   "file_extension": ".py",
   "mimetype": "text/x-python",
   "name": "python",
   "nbconvert_exporter": "python",
   "pygments_lexer": "ipython3",
   "version": "3.7.3"
  }
 },
 "nbformat": 4,
 "nbformat_minor": 2
}
