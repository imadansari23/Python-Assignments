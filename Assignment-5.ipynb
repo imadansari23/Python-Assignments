{
 "cells": [
  {
   "cell_type": "code",
   "execution_count": 22,
   "metadata": {},
   "outputs": [
    {
     "name": "stdout",
     "output_type": "stream",
     "text": [
      "1307674368000\n"
     ]
    }
   ],
   "source": [
    "def factorial(num):\n",
    "    a = num-1\n",
    "    while a > 0:\n",
    "        num = num*a\n",
    "        a-=1\n",
    "    print (num)\n",
    "factorial(15)"
   ]
  },
  {
   "cell_type": "code",
   "execution_count": 32,
   "metadata": {},
   "outputs": [
    {
     "name": "stdout",
     "output_type": "stream",
     "text": [
      "Upper Case letters are : 9\n",
      "Lower Case letters are : 7\n"
     ]
    }
   ],
   "source": [
    "def counter(val):\n",
    "    a = 0\n",
    "    b = 0\n",
    "    for i in val:\n",
    "        if (i.islower()):\n",
    "            a+=1\n",
    "        elif(i.isupper()):\n",
    "            b+=1\n",
    "    print(\"Upper Case letters are : \" + str(a))\n",
    "    print(\"Lower Case letters are : \" + str(b))\n",
    "    \n",
    "    \n",
    "counter(\"imadAAAssDDcccFF\")"
   ]
  },
  {
   "cell_type": "code",
   "execution_count": 38,
   "metadata": {},
   "outputs": [
    {
     "name": "stdout",
     "output_type": "stream",
     "text": [
      "2\n",
      "8\n",
      "4\n",
      "6\n",
      "4\n"
     ]
    }
   ],
   "source": [
    "a = [1,2,5,8,7,4,9,6,5,4]\n",
    "def even(a):\n",
    "    for i in a:\n",
    "        if(i%2 == 0):\n",
    "            print(i)\n",
    "\n",
    "even(a)"
   ]
  },
  {
   "cell_type": "code",
   "execution_count": 86,
   "metadata": {},
   "outputs": [
    {
     "name": "stdout",
     "output_type": "stream",
     "text": [
      "This is Palindrome\n"
     ]
    }
   ],
   "source": [
    "def par(text):\n",
    "    a = []\n",
    "    b = []\n",
    "    for i in reversed(text):\n",
    "        a.append(i)\n",
    "    for c in text:\n",
    "        b.append(c)\n",
    "    if a == b:\n",
    "        print(\"This is Palindrome\")\n",
    "    else:\n",
    "        print(\"This is not Palindrome\")\n",
    "par(\"madam\")"
   ]
  },
  {
   "cell_type": "code",
   "execution_count": 83,
   "metadata": {},
   "outputs": [
    {
     "name": "stdout",
     "output_type": "stream",
     "text": [
      "47 is a Prime Number\n"
     ]
    }
   ],
   "source": [
    "def prime(num):\n",
    "    a=0\n",
    "    if(num>1):\n",
    "        for i in range(2,num):\n",
    "            if(num%i == 0):\n",
    "                a=1\n",
    "\n",
    "        if (a==1):\n",
    "            print(str(num) + \" is not a Prime number\")\n",
    "        else:\n",
    "            print(str(num) + \" is a Prime Number\")\n",
    "\n",
    "prime(47)"
   ]
  },
  {
   "cell_type": "code",
   "execution_count": 85,
   "metadata": {},
   "outputs": [
    {
     "name": "stdout",
     "output_type": "stream",
     "text": [
      "('vegetables', 'meat', 'ketchup', 'milk')\n"
     ]
    }
   ],
   "source": [
    "def shopping(*items):\n",
    "    print(items)\n",
    "shopping(\"vegetables\",\"meat\",\"ketchup\",\"milk\")"
   ]
  },
  {
   "cell_type": "code",
   "execution_count": null,
   "metadata": {},
   "outputs": [],
   "source": []
  }
 ],
 "metadata": {
  "kernelspec": {
   "display_name": "Python 3",
   "language": "python",
   "name": "python3"
  },
  "language_info": {
   "codemirror_mode": {
    "name": "ipython",
    "version": 3
   },
   "file_extension": ".py",
   "mimetype": "text/x-python",
   "name": "python",
   "nbconvert_exporter": "python",
   "pygments_lexer": "ipython3",
   "version": "3.7.3"
  }
 },
 "nbformat": 4,
 "nbformat_minor": 2
}
