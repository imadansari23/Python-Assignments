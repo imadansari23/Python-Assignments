{
 "cells": [
  {
   "cell_type": "code",
   "execution_count": 5,
   "metadata": {},
   "outputs": [
    {
     "name": "stdout",
     "output_type": "stream",
     "text": [
      "{'first_name': 'Imad', 'last_name': 'Ansari', 'age': 25, 'city': 'Hyderabad'}\n",
      "{'first_name': 'Imad', 'last_name': 'Ansari', 'age': 25, 'city': 'Hyderabad', 'qualification': 'Graduation'}\n",
      "{'first_name': 'Imad', 'last_name': 'Ansari', 'age': 25, 'city': 'Hyderabad'}\n"
     ]
    }
   ],
   "source": [
    "person = {\n",
    "    \"first_name\" : \"Imad\",\n",
    "    \"last_name\" : \"Ansari\",\n",
    "    \"age\" : 25,\n",
    "    \"city\" : \"Hyderabad\",\n",
    "}\n",
    "print (person)\n",
    "person[\"qualification\"] = \"Graduation\"\n",
    "print(person)\n",
    "del person[\"qualification\"]\n",
    "print(person)"
   ]
  },
  {
   "cell_type": "code",
   "execution_count": 14,
   "metadata": {},
   "outputs": [
    {
     "name": "stdout",
     "output_type": "stream",
     "text": [
      "('Hyderabad', {'Country': 'Pakistan', 'Population': 1700000, 'Fact': 'Historic'})\n",
      "('Paris', {'Country': 'France', 'Population': 2100000, 'Fact': 'Roman city'})\n",
      "('New York', {'Country': 'USA', 'Population': 8600000, 'Fact': 'Largest City in USA'})\n"
     ]
    }
   ],
   "source": [
    "cities = {\n",
    "    \"Hyderabad\" : {\n",
    "        \"Country\" : \"Pakistan\",\n",
    "        \"Population\" : 1700000,\n",
    "        \"Fact\" : \"Historic\"\n",
    "    },\n",
    "    \"Paris\" : {\n",
    "        \"Country\" : \"France\",\n",
    "        \"Population\" : 2100000,\n",
    "        \"Fact\" : \"Roman city\"\n",
    "    },\n",
    "    \"New York\" :{\n",
    "        \"Country\" : \"USA\",\n",
    "        \"Population\" : 8600000,\n",
    "        \"Fact\" : \"Largest City in USA\"\n",
    "    }\n",
    "}\n",
    "\n",
    "for a in cities.items():\n",
    "    print(a)"
   ]
  },
  {
   "cell_type": "code",
   "execution_count": 18,
   "metadata": {},
   "outputs": [
    {
     "name": "stdout",
     "output_type": "stream",
     "text": [
      "Enter Your Age 7\n",
      "The ticket price is 10$\n"
     ]
    }
   ],
   "source": [
    "age = int(input(\"Enter Your Age \"))\n",
    "if age<=3:\n",
    "    print(\"You are Under age\")\n",
    "elif age > 3 and age < 12:\n",
    "    print(\"The ticket price is 10$\")\n",
    "else:\n",
    "    print(\"The ticket price is 15$\")"
   ]
  },
  {
   "cell_type": "code",
   "execution_count": 22,
   "metadata": {},
   "outputs": [
    {
     "name": "stdout",
     "output_type": "stream",
     "text": [
      "One of My favourite book is : Hamlet\n"
     ]
    }
   ],
   "source": [
    "def favourite_book(title):\n",
    "    print(\"One of My favourite book is : \" + title)\n",
    "favourite_book(\"Hamlet\")"
   ]
  },
  {
   "cell_type": "code",
   "execution_count": 2,
   "metadata": {},
   "outputs": [
    {
     "name": "stdout",
     "output_type": "stream",
     "text": [
      "Enter Your Number : 23\n",
      "Your Number is GREATER\n",
      "Enter Your Number : 15\n",
      "Your Number is SMALLER\n",
      "Enter Your Number : 20\n",
      "Your Number is GREATER\n",
      "You LOSE\n"
     ]
    }
   ],
   "source": [
    "from random import randint\n",
    "#num = int(input(\"Enter Your Number\"))\n",
    "for _ in range(30):\n",
    "    value = randint(1,30)\n",
    "i = 1\n",
    "a = 0\n",
    "while i <= 3:\n",
    "    num = int(input(\"Enter Your Number : \"))\n",
    "    if num == value:\n",
    "        print(\"Your Guess is RIGHT\")\n",
    "        a = 1\n",
    "        break\n",
    "    elif num > value:\n",
    "        print(\"Your Number is GREATER\")\n",
    "    elif num < value:\n",
    "        print(\"Your Number is SMALLER\")\n",
    "    i += 1\n",
    "if a == 1:\n",
    "    print(\"You WIN\")\n",
    "else:\n",
    "    print(\"You LOSE\")"
   ]
  },
  {
   "cell_type": "code",
   "execution_count": null,
   "metadata": {},
   "outputs": [],
   "source": []
  },
  {
   "cell_type": "code",
   "execution_count": null,
   "metadata": {},
   "outputs": [],
   "source": []
  }
 ],
 "metadata": {
  "kernelspec": {
   "display_name": "Python 3",
   "language": "python",
   "name": "python3"
  },
  "language_info": {
   "codemirror_mode": {
    "name": "ipython",
    "version": 3
   },
   "file_extension": ".py",
   "mimetype": "text/x-python",
   "name": "python",
   "nbconvert_exporter": "python",
   "pygments_lexer": "ipython3",
   "version": "3.7.3"
  }
 },
 "nbformat": 4,
 "nbformat_minor": 2
}
