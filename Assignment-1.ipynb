{
 "cells": [
  {
   "cell_type": "code",
   "execution_count": 5,
   "metadata": {},
   "outputs": [
    {
     "name": "stdout",
     "output_type": "stream",
     "text": [
      "Twinkle, twinkle, little star,\n",
      "            How i wonder what you  are!\n",
      "                Up above the world so high,\n",
      "                Like a diamond in the sky.\n",
      "          Twinkle, twinkle, little star,\n",
      "             How i wonder what you are\n"
     ]
    }
   ],
   "source": [
    "print ('''Twinkle, twinkle, little star,\n",
    "            How i wonder what you  are!\n",
    "                Up above the world so high,\n",
    "                Like a diamond in the sky.\n",
    "          Twinkle, twinkle, little star,\n",
    "             How i wonder what you are''')"
   ]
  },
  {
   "cell_type": "code",
   "execution_count": 6,
   "metadata": {},
   "outputs": [
    {
     "name": "stdout",
     "output_type": "stream",
     "text": [
      "Python Version is : 3.7.3 (default, Mar 27 2019, 17:13:21) [MSC v.1915 64 bit (AMD64)]\n"
     ]
    }
   ],
   "source": [
    "import sys\n",
    "print (\"Python Version is : \" + sys.version)"
   ]
  },
  {
   "cell_type": "code",
   "execution_count": 7,
   "metadata": {},
   "outputs": [
    {
     "name": "stdout",
     "output_type": "stream",
     "text": [
      "2019-11-22 22:06:28.329287\n"
     ]
    }
   ],
   "source": [
    "from datetime import datetime\n",
    "now = datetime.now()\n",
    "print(now)"
   ]
  },
  {
   "cell_type": "code",
   "execution_count": 8,
   "metadata": {},
   "outputs": [
    {
     "name": "stdout",
     "output_type": "stream",
     "text": [
      "Enter the Radius Value: 20\n",
      "1256.0\n"
     ]
    }
   ],
   "source": [
    "radius = int(input(\"Enter the Radius Value: \"))\n",
    "pi = 3.14\n",
    "area = pi*(radius**2)\n",
    "print(area)"
   ]
  },
  {
   "cell_type": "code",
   "execution_count": 9,
   "metadata": {},
   "outputs": [
    {
     "name": "stdout",
     "output_type": "stream",
     "text": [
      "Enter Your First Nameimad\n",
      "Enter Your Last Nameansari\n",
      "ansari imad\n"
     ]
    }
   ],
   "source": [
    "first_name = input(\"Enter Your First Name\")\n",
    "last_name = input(\"Enter Your Last Name\")\n",
    "print (last_name + \" \" + first_name)"
   ]
  },
  {
   "cell_type": "code",
   "execution_count": 10,
   "metadata": {},
   "outputs": [
    {
     "name": "stdout",
     "output_type": "stream",
     "text": [
      "Enter First Number55\n",
      "Enter Second Number22\n",
      "77\n"
     ]
    }
   ],
   "source": [
    "first_num = int(input(\"Enter First Number\"))\n",
    "second_num = int(input(\"Enter Second Number\"))\n",
    "ans = first_num + second_num\n",
    "print (ans)"
   ]
  },
  {
   "cell_type": "code",
   "execution_count": null,
   "metadata": {},
   "outputs": [],
   "source": []
  }
 ],
 "metadata": {
  "kernelspec": {
   "display_name": "Python 3",
   "language": "python",
   "name": "python3"
  },
  "language_info": {
   "codemirror_mode": {
    "name": "ipython",
    "version": 3
   },
   "file_extension": ".py",
   "mimetype": "text/x-python",
   "name": "python",
   "nbconvert_exporter": "python",
   "pygments_lexer": "ipython3",
   "version": "3.7.3"
  }
 },
 "nbformat": 4,
 "nbformat_minor": 2
}
