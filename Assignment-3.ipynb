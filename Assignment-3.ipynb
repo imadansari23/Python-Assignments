{
 "cells": [
  {
   "cell_type": "code",
   "execution_count": 3,
   "metadata": {},
   "outputs": [
    {
     "name": "stdout",
     "output_type": "stream",
     "text": [
      "Enter First Num: 56\n",
      "Enter Second Num: 85\n",
      "Enter Operator: -\n",
      "-29\n"
     ]
    }
   ],
   "source": [
    "first_num = int(input(\"Enter First Num: \"))\n",
    "second_num = int(input(\"Enter Second Num: \"))\n",
    "operator = input(\"Enter Operator: \")\n",
    "if (operator == \"+\"):\n",
    "    print (first_num + second_num)\n",
    "if (operator == \"-\"):\n",
    "    print (first_num - second_num)\n",
    "if (operator == \"*\"):\n",
    "    print (first_num * second_num)\n",
    "if (operator == \"/\"):\n",
    "    print (first_num / second_num)\n",
    "if (operator == \"**\"):\n",
    "    print (first_num ** second_num)"
   ]
  },
  {
   "cell_type": "code",
   "execution_count": 14,
   "metadata": {},
   "outputs": [
    {
     "name": "stdout",
     "output_type": "stream",
     "text": [
      "1\n",
      "5\n",
      "66\n",
      "55\n"
     ]
    }
   ],
   "source": [
    "list1 = [1, \"abc\", \"five\", 5, \"orange\", 66, \"55\", 55]\n",
    "for x in list1:\n",
    "    if isinstance(x, int):\n",
    "        print (x)"
   ]
  },
  {
   "cell_type": "code",
   "execution_count": 15,
   "metadata": {},
   "outputs": [
    {
     "name": "stdout",
     "output_type": "stream",
     "text": [
      "{'brand': 'Suzuki', 'model': 'Corolla', 'year': 2015, 'price': 1000000}\n"
     ]
    }
   ],
   "source": [
    "car = {\n",
    "  \"brand\": \"Suzuki\",\n",
    "  \"model\": \"Corolla\",\n",
    "  \"year\": 2015\n",
    "}\n",
    "car[\"price\"] = 1000000\n",
    "print (car)"
   ]
  },
  {
   "cell_type": "code",
   "execution_count": 19,
   "metadata": {},
   "outputs": [
    {
     "name": "stdout",
     "output_type": "stream",
     "text": [
      "63\n"
     ]
    }
   ],
   "source": [
    "num_dic = {\n",
    "    \"val1\" : 1,\n",
    "    \"val2\" : \"orange\",\n",
    "    \"val3\" : 50,\n",
    "    \"val4\" : 12,\n",
    "    \"val5\" : \"car\"\n",
    "}\n",
    "add = 0\n",
    "for x in num_dic.values():\n",
    "    if isinstance(x, int):\n",
    "        add += x\n",
    "print (add)"
   ]
  },
  {
   "cell_type": "code",
   "execution_count": 24,
   "metadata": {},
   "outputs": [
    {
     "name": "stdout",
     "output_type": "stream",
     "text": [
      "Duplicate Found\n"
     ]
    }
   ],
   "source": [
    "list1 = [1,2,12,1,3,12,5,5,14,4,89,4,8,9]\n",
    "a = set(list1)\n",
    "if len(list1) == len(a):\n",
    "    print(\"No Duplicates Found\")\n",
    "else:\n",
    "    print(\"Duplicate Found\")"
   ]
  },
  {
   "cell_type": "code",
   "execution_count": 31,
   "metadata": {},
   "outputs": [
    {
     "name": "stdout",
     "output_type": "stream",
     "text": [
      "Enter Key: hjgh\n",
      "Not Have\n"
     ]
    }
   ],
   "source": [
    "key = input(\"Enter Key: \")\n",
    "car = {\n",
    "  \"brand\": \"Suzuki\",\n",
    "  \"model\": \"Corolla\",\n",
    "  \"year\": 2015\n",
    "}\n",
    "if key in car.keys():\n",
    "    print(\"Already Have\")\n",
    "else:\n",
    "    print(\"Not Have\")"
   ]
  }
 ],
 "metadata": {
  "kernelspec": {
   "display_name": "Python 3",
   "language": "python",
   "name": "python3"
  },
  "language_info": {
   "codemirror_mode": {
    "name": "ipython",
    "version": 3
   },
   "file_extension": ".py",
   "mimetype": "text/x-python",
   "name": "python",
   "nbconvert_exporter": "python",
   "pygments_lexer": "ipython3",
   "version": "3.7.3"
  }
 },
 "nbformat": 4,
 "nbformat_minor": 2
}
